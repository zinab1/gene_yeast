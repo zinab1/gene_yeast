{
 "cells": [
  {
   "cell_type": "code",
   "execution_count": 14,
   "metadata": {},
   "outputs": [],
   "source": [
    "from Bio import SeqIO\n",
    "import numpy as np\n",
    "import  matplotlib.pyplot as plt\n",
    "\n",
    "max_length =10000"
   ]
  },
  {
   "cell_type": "code",
   "execution_count": 15,
   "metadata": {},
   "outputs": [],
   "source": [
    "def get_from_DNA(chromsome,chromsomeID,TSS,PAS,direction):\n",
    "    if direction == '+':\n",
    "        s = str(chromsome[chromsomeID])[TSS:PAS]\n",
    "        return s\n",
    "    else:\n",
    "        s = str(chromsome[chromsomeID])[PAS:TSS]\n",
    "        return s[::-1]\n",
    "    \n",
    "def make_image(seq):\n",
    "    image=np.zeros(shape=(4,max_length),dtype=np.float16)\n",
    "                 \n",
    "    for i in range(len(seq)):\n",
    "        if seq[i]=='A':\n",
    "            image[0,i]=1\n",
    "        elif seq[i]=='T':\n",
    "            image[1,i]=1\n",
    "        elif seq[i]=='G':\n",
    "             image[2,i]=1\n",
    "        else:\n",
    "            image[3,i]=1\n",
    "                            \n",
    "    return image\n",
    "            "
   ]
  },
  {
   "cell_type": "code",
   "execution_count": 16,
   "metadata": {},
   "outputs": [
    {
     "name": "stdout",
     "output_type": "stream",
     "text": [
      "TACTTAAGTTGAGGGCTAGATTATAGAGGAGTCTTTAGGTTAAGTAGGTTGAGTATACTTAACCTTAGACCAGCAAGTTTCCGGTACTTATGAGGTCTTCCATTTTTACTTTCAAAAGTGCTGTTGAATTCACTTTCAGTTCACGTTGGGCGGCAACGGGGAGGTTTGTGGCCTTTTCCACAGATGCATTGCCAAAGATAGACAACACAATACCAACGAAAGCCACCAAAGTATAAACCTACCCTATGACCATGGTAAAGACCAAAACAACGAGTTTGACTAAAAGATTCTTCTAAACCATACTTCGTGGTGCTGCCATCAGTAATGAACAGGTTCCACTCTTGACCAAATTAACAGAGATAAAAATTGTAACCAACACGGTAACCACCATAGCAGAATCGGTTCGATCCACTATACATACCAGCATCTTAGCCAAACTAACAGCAACATCATTAGATGTGATAGCCATAGTAATAAGTTTATCGGAGCTAGTTGTTCACCATGGTTATAAAGTAACCATCTTAATAGAGACCAAATCCACAGCCACCATAGTGTCAAAATAGAGGGTACGATTATAGACTCCAGCGGGGGTCACTTTACTCTCCGTGGAACCAAAGTACAATGGTTCAGTACTAATGAAATCCATAAAAGAATCCAATGACATGGTTAAAACCATGGTTCTTAATGAGTTTGAGACAGGTTACCTCTCAAGGTAATCCAAACACAAAGCGGACCCGGAATAAATACTAACCACCATACTACAAACAAGGACTTAGAGGTGCAATAAACCAACTTCGACCGTCTTAGCTGCTTCGGTCCCGAAGAAATCGATTTCAATTGTTTACGGGTGGACTGGTAGGTATGTAAGTTATACTCAACCTTTGATAGCTTCGGTCACAGCTTCTTTACTCTCGGCGACCATGACGTAGAACCCCGCTTAATAAGTGACCATTTGGTCGGTACAAAGTTGCATGATACTACCCATAGTACTAAGTTAGAGATGTTGTTAATTGACCACTATTGATAAAGAAGATGATGCCATGGTAACAAAAGGTCCGACAGCCAAATTCACTGAGAAAACTTTGAAGATAACAGAAACCACAGCAGTTGAAGAAGAGGTGAACAACAAGAGACATGTGGCAACTGGCAAAACCGGCAGCATTGACAAACTACACCCCACGACAGCCATACCAGACGACAATACAACAGATACGGAGACAACCACAATGGTCTAATACCGGTTTGCCAGTTCTAGTTGGTAGAAGTTTCCCACGACCATTGACATACTAACAAAAGCGTACAAAGATGTAAAAGACAAAGCGATGATGGACCCGGGGTTAACGAATGCAACAATAAAGTCTTACAAAGGGTAATTCTCAGTTTAGGTTCACATACAGATAACGGTCACGACGATTGACCTAGACCCCAAAGAACTAATCAAAGAAGTGGGGTAAATAATGACCACGGTAGTTGAAGATGATGCCAATGCAAAAGTACCCGACATACCAAAAGCGAATGAAAATGCAGAAAAAGAAGCAAGGTCTTTGATTTCCAAATAGTAATCTTCTTCAATTACTATACATGCGGCTTCCACAAGATGGTACCTTTAGTCGAAGGACCCAAGGTCATAGGTTCTCTCCGCGACTGATGTTGCGACTACTGGATTACGTACTACTGGTTGGTAAAATGTTCTCAAACAAATCGTCCTTTATT\n"
     ]
    }
   ],
   "source": [
    "chromsome=[]\n",
    "for seq_record in SeqIO.parse(\"S288C_reference_sequence_R64-1-1_20110203.fsa\",\"fasta\"):\n",
    "    chromsome.append(seq_record.seq)\n",
    "    \n",
    "print(get_from_DNA(chromsome,7,292625,290912,'-'))\n"
   ]
  },
  {
   "cell_type": "code",
   "execution_count": 21,
   "metadata": {},
   "outputs": [
    {
     "name": "stdout",
     "output_type": "stream",
     "text": [
      "[[0. 1. 0. ... 0. 0. 0.]\n",
      " [1. 0. 0. ... 0. 0. 0.]\n",
      " [0. 0. 0. ... 0. 0. 0.]\n",
      " [0. 0. 1. ... 0. 0. 0.]]\n"
     ]
    }
   ],
   "source": [
    "s = get_from_DNA(chromsome,7,292625,290912,'-')\n",
    "x_image=make_image(s) \n",
    "print(x_image)"
   ]
  },
  {
   "cell_type": "code",
   "execution_count": 18,
   "metadata": {},
   "outputs": [],
   "source": [
    "def encode_feature(seq,lable):\n",
    "    s=make_image(seq)\n",
    "    s=s.reshape(1,4*max_length)\n",
    "    s=np.insert(s,0,lable)\n",
    "    return s"
   ]
  },
  {
   "cell_type": "code",
   "execution_count": 19,
   "metadata": {},
   "outputs": [
    {
     "name": "stdout",
     "output_type": "stream",
     "text": [
      "0\n",
      "1000\n",
      "2000\n",
      "3000\n",
      "4000\n",
      "5000\n",
      "6000\n",
      "7000\n",
      "8000\n",
      "9000\n"
     ]
    }
   ],
   "source": [
    "import pandas as pd\n",
    "\n",
    "def Generate_binary(seq_file):\n",
    "    data=pd.read_csv(seq_file)\n",
    "    seq=data['UTR'].values\n",
    "    label=data['growth_rate'].values\n",
    "    \n",
    "    for i in range(10000):\n",
    "        if(i%1000==0):\n",
    "            print(i)\n",
    "            if (i==0):\n",
    "                s=encode_feature(data['UTR'].values[i],data['growth_rate'].values[i])\n",
    "            else: \n",
    "                s=np.append(s,encode_feature(data['UTR'].values[i],data['growth_rate'].values[i]))\n",
    "    s.tofile(\"s.bin\")\n",
    "Generate_binary(\"Random_UTRs.csv\")   "
   ]
  },
  {
   "cell_type": "code",
   "execution_count": 20,
   "metadata": {},
   "outputs": [
    {
     "name": "stdout",
     "output_type": "stream",
     "text": [
      "[-1.237  1.     1.    ...  0.     0.     0.   ]\n"
     ]
    }
   ],
   "source": [
    "print(np.fromfile(\"s.bin\",dtype=np.float16))"
   ]
  },
  {
   "cell_type": "code",
   "execution_count": null,
   "metadata": {},
   "outputs": [],
   "source": []
  }
 ],
 "metadata": {
  "kernelspec": {
   "display_name": "NNlab",
   "language": "python",
   "name": "nnlab"
  },
  "language_info": {
   "codemirror_mode": {
    "name": "ipython",
    "version": 3
   },
   "file_extension": ".py",
   "mimetype": "text/x-python",
   "name": "python",
   "nbconvert_exporter": "python",
   "pygments_lexer": "ipython3",
   "version": "3.6.6"
  }
 },
 "nbformat": 4,
 "nbformat_minor": 2
}
